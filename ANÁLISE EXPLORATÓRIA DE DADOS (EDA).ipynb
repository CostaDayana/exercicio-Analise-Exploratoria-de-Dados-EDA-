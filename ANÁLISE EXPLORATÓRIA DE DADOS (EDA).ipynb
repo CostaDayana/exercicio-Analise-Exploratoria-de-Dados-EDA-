{
 "cells": [
  {
   "cell_type": "markdown",
   "id": "b7402b97",
   "metadata": {},
   "source": [
    "# EXERCÍCIO: ANÁLISE EXPLORATÓRIA DE DADOS (EDA)"
   ]
  },
  {
   "cell_type": "markdown",
   "id": "9a0ba910",
   "metadata": {},
   "source": [
    "## Para este exercício, utilize o dataset sobre dados históricos das olimpíadas. Carregue os dados e faça o que se pede:"
   ]
  },
  {
   "cell_type": "code",
   "execution_count": 27,
   "id": "7da46c78",
   "metadata": {},
   "outputs": [],
   "source": [
    "#Manipulação de Dados\n",
    "import pandas as pd\n",
    "\n",
    "#Visualisação\n",
    "#import missingno\n",
    "import seaborn as sns\n",
    "import matplotlib.pyplot as plt\n",
    "\n",
    "#Machine Learning\n",
    "#from sklearn.linear_model import LinearRegressi"
   ]
  },
  {
   "cell_type": "code",
   "execution_count": 2,
   "id": "f09f0afe",
   "metadata": {},
   "outputs": [],
   "source": [
    "df_atleta = pd.read_csv(\"arquivos/atletas-eventos.csv\", decimal='.', thousands=',')\n",
    "df_noc = pd.read_csv(\"arquivos/noc-regioes.csv\")"
   ]
  },
  {
   "cell_type": "code",
   "execution_count": 3,
   "id": "f31cdd1e",
   "metadata": {},
   "outputs": [],
   "source": [
    "df_atleta.rename(columns={\"ID\": \"id_atleta\", \"Name\": \"nome_atleta\", \"Sex\": \"sexo_atleta\", \"Age\": \"idade\", \"Height\": \"altura_atleta\",\n",
    "                          \"Weight\": \"peso_atleta\", \"Team\": \"equipe\", \"NOC\": \"noc\", \"Games\": \"ano_temporada\", \"Year\": \"ano\", \n",
    "                          \"Season\": \"temporada\", \"City\": \"cidade_sede\", \"Sport\": \"modalidade_esportiva\", \"Event\": \"evento\",\n",
    "                          \"Medal\": \"medalha\"}, inplace=True)"
   ]
  },
  {
   "cell_type": "markdown",
   "id": "f999ccf9",
   "metadata": {},
   "source": [
    "pegando apenas temporada verão"
   ]
  },
  {
   "cell_type": "code",
   "execution_count": 4,
   "id": "c1fef52f",
   "metadata": {},
   "outputs": [
    {
     "data": {
      "text/plain": [
       "2"
      ]
     },
     "execution_count": 4,
     "metadata": {},
     "output_type": "execute_result"
    }
   ],
   "source": [
    "df_atleta[\"temporada\"].nunique()"
   ]
  },
  {
   "cell_type": "code",
   "execution_count": 5,
   "id": "853cfc5a",
   "metadata": {},
   "outputs": [
    {
     "data": {
      "text/plain": [
       "array(['Summer', 'Winter'], dtype=object)"
      ]
     },
     "execution_count": 5,
     "metadata": {},
     "output_type": "execute_result"
    }
   ],
   "source": [
    "df_atleta[\"temporada\"].unique()"
   ]
  },
  {
   "cell_type": "code",
   "execution_count": 6,
   "id": "62a2fff1",
   "metadata": {},
   "outputs": [],
   "source": [
    "df_atleta = df_atleta[df_atleta[\"temporada\"] == \"Summer\"]"
   ]
  },
  {
   "cell_type": "code",
   "execution_count": 7,
   "id": "e447dc18",
   "metadata": {},
   "outputs": [
    {
     "data": {
      "text/plain": [
       "1"
      ]
     },
     "execution_count": 7,
     "metadata": {},
     "output_type": "execute_result"
    }
   ],
   "source": [
    "df_atleta[\"temporada\"].nunique()"
   ]
  },
  {
   "cell_type": "code",
   "execution_count": 8,
   "id": "3b328e13",
   "metadata": {},
   "outputs": [
    {
     "data": {
      "text/plain": [
       "array(['Summer'], dtype=object)"
      ]
     },
     "execution_count": 8,
     "metadata": {},
     "output_type": "execute_result"
    }
   ],
   "source": [
    "df_atleta[\"temporada\"].unique()"
   ]
  },
  {
   "cell_type": "code",
   "execution_count": 9,
   "id": "22ea7cfd",
   "metadata": {},
   "outputs": [
    {
     "data": {
      "text/html": [
       "<div>\n",
       "<style scoped>\n",
       "    .dataframe tbody tr th:only-of-type {\n",
       "        vertical-align: middle;\n",
       "    }\n",
       "\n",
       "    .dataframe tbody tr th {\n",
       "        vertical-align: top;\n",
       "    }\n",
       "\n",
       "    .dataframe thead th {\n",
       "        text-align: right;\n",
       "    }\n",
       "</style>\n",
       "<table border=\"1\" class=\"dataframe\">\n",
       "  <thead>\n",
       "    <tr style=\"text-align: right;\">\n",
       "      <th></th>\n",
       "      <th>id_atleta</th>\n",
       "      <th>idade</th>\n",
       "      <th>altura_atleta</th>\n",
       "      <th>peso_atleta</th>\n",
       "      <th>ano</th>\n",
       "    </tr>\n",
       "  </thead>\n",
       "  <tbody>\n",
       "    <tr>\n",
       "      <th>count</th>\n",
       "      <td>222552.000</td>\n",
       "      <td>213363.000</td>\n",
       "      <td>170695.000</td>\n",
       "      <td>168698.000</td>\n",
       "      <td>222552.000</td>\n",
       "    </tr>\n",
       "    <tr>\n",
       "      <th>mean</th>\n",
       "      <td>67998.926</td>\n",
       "      <td>25.674</td>\n",
       "      <td>175.516</td>\n",
       "      <td>70.689</td>\n",
       "      <td>1976.317</td>\n",
       "    </tr>\n",
       "    <tr>\n",
       "      <th>std</th>\n",
       "      <td>39139.038</td>\n",
       "      <td>6.700</td>\n",
       "      <td>10.915</td>\n",
       "      <td>14.804</td>\n",
       "      <td>30.943</td>\n",
       "    </tr>\n",
       "    <tr>\n",
       "      <th>min</th>\n",
       "      <td>1.000</td>\n",
       "      <td>10.000</td>\n",
       "      <td>127.000</td>\n",
       "      <td>25.000</td>\n",
       "      <td>1896.000</td>\n",
       "    </tr>\n",
       "    <tr>\n",
       "      <th>25%</th>\n",
       "      <td>34000.750</td>\n",
       "      <td>21.000</td>\n",
       "      <td>168.000</td>\n",
       "      <td>60.000</td>\n",
       "      <td>1956.000</td>\n",
       "    </tr>\n",
       "    <tr>\n",
       "      <th>50%</th>\n",
       "      <td>68302.500</td>\n",
       "      <td>24.000</td>\n",
       "      <td>175.000</td>\n",
       "      <td>70.000</td>\n",
       "      <td>1984.000</td>\n",
       "    </tr>\n",
       "    <tr>\n",
       "      <th>75%</th>\n",
       "      <td>101881.000</td>\n",
       "      <td>28.000</td>\n",
       "      <td>183.000</td>\n",
       "      <td>79.000</td>\n",
       "      <td>2000.000</td>\n",
       "    </tr>\n",
       "    <tr>\n",
       "      <th>max</th>\n",
       "      <td>135568.000</td>\n",
       "      <td>97.000</td>\n",
       "      <td>226.000</td>\n",
       "      <td>214.000</td>\n",
       "      <td>2016.000</td>\n",
       "    </tr>\n",
       "  </tbody>\n",
       "</table>\n",
       "</div>"
      ],
      "text/plain": [
       "        id_atleta       idade  altura_atleta  peso_atleta         ano\n",
       "count  222552.000  213363.000     170695.000   168698.000  222552.000\n",
       "mean    67998.926      25.674        175.516       70.689    1976.317\n",
       "std     39139.038       6.700         10.915       14.804      30.943\n",
       "min         1.000      10.000        127.000       25.000    1896.000\n",
       "25%     34000.750      21.000        168.000       60.000    1956.000\n",
       "50%     68302.500      24.000        175.000       70.000    1984.000\n",
       "75%    101881.000      28.000        183.000       79.000    2000.000\n",
       "max    135568.000      97.000        226.000      214.000    2016.000"
      ]
     },
     "execution_count": 9,
     "metadata": {},
     "output_type": "execute_result"
    }
   ],
   "source": [
    "df_atleta.describe().round(3)"
   ]
  },
  {
   "cell_type": "code",
   "execution_count": 10,
   "id": "7f59f13c",
   "metadata": {},
   "outputs": [
    {
     "data": {
      "text/html": [
       "<div>\n",
       "<style scoped>\n",
       "    .dataframe tbody tr th:only-of-type {\n",
       "        vertical-align: middle;\n",
       "    }\n",
       "\n",
       "    .dataframe tbody tr th {\n",
       "        vertical-align: top;\n",
       "    }\n",
       "\n",
       "    .dataframe thead th {\n",
       "        text-align: right;\n",
       "    }\n",
       "</style>\n",
       "<table border=\"1\" class=\"dataframe\">\n",
       "  <thead>\n",
       "    <tr style=\"text-align: right;\">\n",
       "      <th></th>\n",
       "      <th>nome_atleta</th>\n",
       "      <th>sexo_atleta</th>\n",
       "      <th>equipe</th>\n",
       "      <th>noc</th>\n",
       "      <th>ano_temporada</th>\n",
       "      <th>temporada</th>\n",
       "      <th>cidade_sede</th>\n",
       "      <th>modalidade_esportiva</th>\n",
       "      <th>evento</th>\n",
       "      <th>medalha</th>\n",
       "    </tr>\n",
       "  </thead>\n",
       "  <tbody>\n",
       "    <tr>\n",
       "      <th>count</th>\n",
       "      <td>222552</td>\n",
       "      <td>222552</td>\n",
       "      <td>222552</td>\n",
       "      <td>222552</td>\n",
       "      <td>222552</td>\n",
       "      <td>222552</td>\n",
       "      <td>222552</td>\n",
       "      <td>222552</td>\n",
       "      <td>222552</td>\n",
       "      <td>34088</td>\n",
       "    </tr>\n",
       "    <tr>\n",
       "      <th>unique</th>\n",
       "      <td>116122</td>\n",
       "      <td>2</td>\n",
       "      <td>1157</td>\n",
       "      <td>230</td>\n",
       "      <td>29</td>\n",
       "      <td>1</td>\n",
       "      <td>23</td>\n",
       "      <td>52</td>\n",
       "      <td>651</td>\n",
       "      <td>3</td>\n",
       "    </tr>\n",
       "    <tr>\n",
       "      <th>top</th>\n",
       "      <td>Robert Tait McKenzie</td>\n",
       "      <td>M</td>\n",
       "      <td>United States</td>\n",
       "      <td>USA</td>\n",
       "      <td>2000 Summer</td>\n",
       "      <td>Summer</td>\n",
       "      <td>London</td>\n",
       "      <td>Athletics</td>\n",
       "      <td>Football Men's Football</td>\n",
       "      <td>Gold</td>\n",
       "    </tr>\n",
       "    <tr>\n",
       "      <th>freq</th>\n",
       "      <td>58</td>\n",
       "      <td>163109</td>\n",
       "      <td>14526</td>\n",
       "      <td>15064</td>\n",
       "      <td>13821</td>\n",
       "      <td>222552</td>\n",
       "      <td>22426</td>\n",
       "      <td>38624</td>\n",
       "      <td>5733</td>\n",
       "      <td>11459</td>\n",
       "    </tr>\n",
       "  </tbody>\n",
       "</table>\n",
       "</div>"
      ],
      "text/plain": [
       "                 nome_atleta sexo_atleta         equipe     noc ano_temporada  \\\n",
       "count                 222552      222552         222552  222552        222552   \n",
       "unique                116122           2           1157     230            29   \n",
       "top     Robert Tait McKenzie           M  United States     USA   2000 Summer   \n",
       "freq                      58      163109          14526   15064         13821   \n",
       "\n",
       "       temporada cidade_sede modalidade_esportiva                   evento  \\\n",
       "count     222552      222552               222552                   222552   \n",
       "unique         1          23                   52                      651   \n",
       "top       Summer      London            Athletics  Football Men's Football   \n",
       "freq      222552       22426                38624                     5733   \n",
       "\n",
       "       medalha  \n",
       "count    34088  \n",
       "unique       3  \n",
       "top       Gold  \n",
       "freq     11459  "
      ]
     },
     "execution_count": 10,
     "metadata": {},
     "output_type": "execute_result"
    }
   ],
   "source": [
    "df_atleta.describe(include=\"O\")"
   ]
  },
  {
   "cell_type": "code",
   "execution_count": null,
   "id": "4aa7c1b7",
   "metadata": {},
   "outputs": [],
   "source": []
  },
  {
   "cell_type": "markdown",
   "id": "f341338b",
   "metadata": {},
   "source": [
    "## 1. Obtenha as estatísticas básicas do dataset (média, desvio padrão, máximos emínimos, distribuição, etc). O que elas dizem sobre os dados"
   ]
  },
  {
   "cell_type": "code",
   "execution_count": 11,
   "id": "9fb58f9c",
   "metadata": {},
   "outputs": [
    {
     "data": {
      "text/html": [
       "<div>\n",
       "<style scoped>\n",
       "    .dataframe tbody tr th:only-of-type {\n",
       "        vertical-align: middle;\n",
       "    }\n",
       "\n",
       "    .dataframe tbody tr th {\n",
       "        vertical-align: top;\n",
       "    }\n",
       "\n",
       "    .dataframe thead th {\n",
       "        text-align: right;\n",
       "    }\n",
       "</style>\n",
       "<table border=\"1\" class=\"dataframe\">\n",
       "  <thead>\n",
       "    <tr style=\"text-align: right;\">\n",
       "      <th></th>\n",
       "      <th>id_atleta</th>\n",
       "      <th>idade</th>\n",
       "      <th>altura_atleta</th>\n",
       "      <th>peso_atleta</th>\n",
       "      <th>ano</th>\n",
       "    </tr>\n",
       "  </thead>\n",
       "  <tbody>\n",
       "    <tr>\n",
       "      <th>count</th>\n",
       "      <td>222552.000000</td>\n",
       "      <td>213363.000000</td>\n",
       "      <td>170695.000000</td>\n",
       "      <td>168698.00000</td>\n",
       "      <td>222552.000000</td>\n",
       "    </tr>\n",
       "    <tr>\n",
       "      <th>mean</th>\n",
       "      <td>67998.925712</td>\n",
       "      <td>25.674053</td>\n",
       "      <td>175.515551</td>\n",
       "      <td>70.68906</td>\n",
       "      <td>1976.317094</td>\n",
       "    </tr>\n",
       "    <tr>\n",
       "      <th>std</th>\n",
       "      <td>39139.038228</td>\n",
       "      <td>6.699839</td>\n",
       "      <td>10.914725</td>\n",
       "      <td>14.80394</td>\n",
       "      <td>30.942802</td>\n",
       "    </tr>\n",
       "    <tr>\n",
       "      <th>min</th>\n",
       "      <td>1.000000</td>\n",
       "      <td>10.000000</td>\n",
       "      <td>127.000000</td>\n",
       "      <td>25.00000</td>\n",
       "      <td>1896.000000</td>\n",
       "    </tr>\n",
       "    <tr>\n",
       "      <th>25%</th>\n",
       "      <td>34000.750000</td>\n",
       "      <td>21.000000</td>\n",
       "      <td>168.000000</td>\n",
       "      <td>60.00000</td>\n",
       "      <td>1956.000000</td>\n",
       "    </tr>\n",
       "    <tr>\n",
       "      <th>50%</th>\n",
       "      <td>68302.500000</td>\n",
       "      <td>24.000000</td>\n",
       "      <td>175.000000</td>\n",
       "      <td>70.00000</td>\n",
       "      <td>1984.000000</td>\n",
       "    </tr>\n",
       "    <tr>\n",
       "      <th>75%</th>\n",
       "      <td>101881.000000</td>\n",
       "      <td>28.000000</td>\n",
       "      <td>183.000000</td>\n",
       "      <td>79.00000</td>\n",
       "      <td>2000.000000</td>\n",
       "    </tr>\n",
       "    <tr>\n",
       "      <th>max</th>\n",
       "      <td>135568.000000</td>\n",
       "      <td>97.000000</td>\n",
       "      <td>226.000000</td>\n",
       "      <td>214.00000</td>\n",
       "      <td>2016.000000</td>\n",
       "    </tr>\n",
       "  </tbody>\n",
       "</table>\n",
       "</div>"
      ],
      "text/plain": [
       "           id_atleta          idade  altura_atleta   peso_atleta  \\\n",
       "count  222552.000000  213363.000000  170695.000000  168698.00000   \n",
       "mean    67998.925712      25.674053     175.515551      70.68906   \n",
       "std     39139.038228       6.699839      10.914725      14.80394   \n",
       "min         1.000000      10.000000     127.000000      25.00000   \n",
       "25%     34000.750000      21.000000     168.000000      60.00000   \n",
       "50%     68302.500000      24.000000     175.000000      70.00000   \n",
       "75%    101881.000000      28.000000     183.000000      79.00000   \n",
       "max    135568.000000      97.000000     226.000000     214.00000   \n",
       "\n",
       "                 ano  \n",
       "count  222552.000000  \n",
       "mean     1976.317094  \n",
       "std        30.942802  \n",
       "min      1896.000000  \n",
       "25%      1956.000000  \n",
       "50%      1984.000000  \n",
       "75%      2000.000000  \n",
       "max      2016.000000  "
      ]
     },
     "execution_count": 11,
     "metadata": {},
     "output_type": "execute_result"
    }
   ],
   "source": [
    "df_atleta.describe()"
   ]
  },
  {
   "cell_type": "markdown",
   "id": "cb1bdbb7",
   "metadata": {},
   "source": [
    "## 2. Existem dados faltantes ou nulos? Se sim, quantos? (utilize funções como o duplicated, isna e/ou isnull do pandas);\n",
    " "
   ]
  },
  {
   "cell_type": "code",
   "execution_count": 12,
   "id": "3e547848",
   "metadata": {},
   "outputs": [
    {
     "data": {
      "text/plain": [
       "id_atleta                    0\n",
       "nome_atleta                  0\n",
       "sexo_atleta                  0\n",
       "idade                     9189\n",
       "altura_atleta            51857\n",
       "peso_atleta              53854\n",
       "equipe                       0\n",
       "noc                          0\n",
       "ano_temporada                0\n",
       "ano                          0\n",
       "temporada                    0\n",
       "cidade_sede                  0\n",
       "modalidade_esportiva         0\n",
       "evento                       0\n",
       "medalha                 188464\n",
       "dtype: int64"
      ]
     },
     "execution_count": 12,
     "metadata": {},
     "output_type": "execute_result"
    }
   ],
   "source": [
    "df_atleta.isnull().sum()"
   ]
  },
  {
   "cell_type": "code",
   "execution_count": 13,
   "id": "c9fe9f29",
   "metadata": {},
   "outputs": [
    {
     "data": {
      "text/html": [
       "<div>\n",
       "<style scoped>\n",
       "    .dataframe tbody tr th:only-of-type {\n",
       "        vertical-align: middle;\n",
       "    }\n",
       "\n",
       "    .dataframe tbody tr th {\n",
       "        vertical-align: top;\n",
       "    }\n",
       "\n",
       "    .dataframe thead th {\n",
       "        text-align: right;\n",
       "    }\n",
       "</style>\n",
       "<table border=\"1\" class=\"dataframe\">\n",
       "  <thead>\n",
       "    <tr style=\"text-align: right;\">\n",
       "      <th></th>\n",
       "      <th>id_atleta</th>\n",
       "      <th>nome_atleta</th>\n",
       "      <th>sexo_atleta</th>\n",
       "      <th>idade</th>\n",
       "      <th>altura_atleta</th>\n",
       "      <th>peso_atleta</th>\n",
       "      <th>equipe</th>\n",
       "      <th>noc</th>\n",
       "      <th>ano_temporada</th>\n",
       "      <th>ano</th>\n",
       "      <th>temporada</th>\n",
       "      <th>cidade_sede</th>\n",
       "      <th>modalidade_esportiva</th>\n",
       "      <th>evento</th>\n",
       "      <th>medalha</th>\n",
       "    </tr>\n",
       "  </thead>\n",
       "  <tbody>\n",
       "    <tr>\n",
       "      <th>1252</th>\n",
       "      <td>704</td>\n",
       "      <td>Dsir Antoine Acket</td>\n",
       "      <td>M</td>\n",
       "      <td>27.0</td>\n",
       "      <td>NaN</td>\n",
       "      <td>NaN</td>\n",
       "      <td>Belgium</td>\n",
       "      <td>BEL</td>\n",
       "      <td>1932 Summer</td>\n",
       "      <td>1932</td>\n",
       "      <td>Summer</td>\n",
       "      <td>Los Angeles</td>\n",
       "      <td>Art Competitions</td>\n",
       "      <td>Art Competitions Mixed Painting, Unknown Event</td>\n",
       "      <td>NaN</td>\n",
       "    </tr>\n",
       "    <tr>\n",
       "      <th>4282</th>\n",
       "      <td>2449</td>\n",
       "      <td>William Truman Aldrich</td>\n",
       "      <td>M</td>\n",
       "      <td>48.0</td>\n",
       "      <td>NaN</td>\n",
       "      <td>NaN</td>\n",
       "      <td>United States</td>\n",
       "      <td>USA</td>\n",
       "      <td>1928 Summer</td>\n",
       "      <td>1928</td>\n",
       "      <td>Summer</td>\n",
       "      <td>Amsterdam</td>\n",
       "      <td>Art Competitions</td>\n",
       "      <td>Art Competitions Mixed Painting, Drawings And ...</td>\n",
       "      <td>NaN</td>\n",
       "    </tr>\n",
       "    <tr>\n",
       "      <th>4283</th>\n",
       "      <td>2449</td>\n",
       "      <td>William Truman Aldrich</td>\n",
       "      <td>M</td>\n",
       "      <td>48.0</td>\n",
       "      <td>NaN</td>\n",
       "      <td>NaN</td>\n",
       "      <td>United States</td>\n",
       "      <td>USA</td>\n",
       "      <td>1928 Summer</td>\n",
       "      <td>1928</td>\n",
       "      <td>Summer</td>\n",
       "      <td>Amsterdam</td>\n",
       "      <td>Art Competitions</td>\n",
       "      <td>Art Competitions Mixed Painting, Drawings And ...</td>\n",
       "      <td>NaN</td>\n",
       "    </tr>\n",
       "    <tr>\n",
       "      <th>4862</th>\n",
       "      <td>2777</td>\n",
       "      <td>Hermann Reinhard Alker</td>\n",
       "      <td>M</td>\n",
       "      <td>43.0</td>\n",
       "      <td>NaN</td>\n",
       "      <td>NaN</td>\n",
       "      <td>Germany</td>\n",
       "      <td>GER</td>\n",
       "      <td>1928 Summer</td>\n",
       "      <td>1928</td>\n",
       "      <td>Summer</td>\n",
       "      <td>Amsterdam</td>\n",
       "      <td>Art Competitions</td>\n",
       "      <td>Art Competitions Mixed Architecture, Designs F...</td>\n",
       "      <td>NaN</td>\n",
       "    </tr>\n",
       "    <tr>\n",
       "      <th>4864</th>\n",
       "      <td>2777</td>\n",
       "      <td>Hermann Reinhard Alker</td>\n",
       "      <td>M</td>\n",
       "      <td>43.0</td>\n",
       "      <td>NaN</td>\n",
       "      <td>NaN</td>\n",
       "      <td>Germany</td>\n",
       "      <td>GER</td>\n",
       "      <td>1928 Summer</td>\n",
       "      <td>1928</td>\n",
       "      <td>Summer</td>\n",
       "      <td>Amsterdam</td>\n",
       "      <td>Art Competitions</td>\n",
       "      <td>Art Competitions Mixed Architecture, Architect...</td>\n",
       "      <td>NaN</td>\n",
       "    </tr>\n",
       "    <tr>\n",
       "      <th>...</th>\n",
       "      <td>...</td>\n",
       "      <td>...</td>\n",
       "      <td>...</td>\n",
       "      <td>...</td>\n",
       "      <td>...</td>\n",
       "      <td>...</td>\n",
       "      <td>...</td>\n",
       "      <td>...</td>\n",
       "      <td>...</td>\n",
       "      <td>...</td>\n",
       "      <td>...</td>\n",
       "      <td>...</td>\n",
       "      <td>...</td>\n",
       "      <td>...</td>\n",
       "      <td>...</td>\n",
       "    </tr>\n",
       "    <tr>\n",
       "      <th>269994</th>\n",
       "      <td>135072</td>\n",
       "      <td>Anna Katrina Zinkeisen (-Heseltine)</td>\n",
       "      <td>F</td>\n",
       "      <td>46.0</td>\n",
       "      <td>NaN</td>\n",
       "      <td>NaN</td>\n",
       "      <td>Great Britain</td>\n",
       "      <td>GBR</td>\n",
       "      <td>1948 Summer</td>\n",
       "      <td>1948</td>\n",
       "      <td>Summer</td>\n",
       "      <td>London</td>\n",
       "      <td>Art Competitions</td>\n",
       "      <td>Art Competitions Mixed Painting, Paintings</td>\n",
       "      <td>NaN</td>\n",
       "    </tr>\n",
       "    <tr>\n",
       "      <th>269995</th>\n",
       "      <td>135072</td>\n",
       "      <td>Anna Katrina Zinkeisen (-Heseltine)</td>\n",
       "      <td>F</td>\n",
       "      <td>46.0</td>\n",
       "      <td>NaN</td>\n",
       "      <td>NaN</td>\n",
       "      <td>Great Britain</td>\n",
       "      <td>GBR</td>\n",
       "      <td>1948 Summer</td>\n",
       "      <td>1948</td>\n",
       "      <td>Summer</td>\n",
       "      <td>London</td>\n",
       "      <td>Art Competitions</td>\n",
       "      <td>Art Competitions Mixed Painting, Paintings</td>\n",
       "      <td>NaN</td>\n",
       "    </tr>\n",
       "    <tr>\n",
       "      <th>269997</th>\n",
       "      <td>135072</td>\n",
       "      <td>Anna Katrina Zinkeisen (-Heseltine)</td>\n",
       "      <td>F</td>\n",
       "      <td>46.0</td>\n",
       "      <td>NaN</td>\n",
       "      <td>NaN</td>\n",
       "      <td>Great Britain</td>\n",
       "      <td>GBR</td>\n",
       "      <td>1948 Summer</td>\n",
       "      <td>1948</td>\n",
       "      <td>Summer</td>\n",
       "      <td>London</td>\n",
       "      <td>Art Competitions</td>\n",
       "      <td>Art Competitions Mixed Painting, Unknown Event</td>\n",
       "      <td>NaN</td>\n",
       "    </tr>\n",
       "    <tr>\n",
       "      <th>269999</th>\n",
       "      <td>135073</td>\n",
       "      <td>Doris Clare Zinkeisen (-Johnstone)</td>\n",
       "      <td>F</td>\n",
       "      <td>49.0</td>\n",
       "      <td>NaN</td>\n",
       "      <td>NaN</td>\n",
       "      <td>Great Britain</td>\n",
       "      <td>GBR</td>\n",
       "      <td>1948 Summer</td>\n",
       "      <td>1948</td>\n",
       "      <td>Summer</td>\n",
       "      <td>London</td>\n",
       "      <td>Art Competitions</td>\n",
       "      <td>Art Competitions Mixed Painting, Unknown Event</td>\n",
       "      <td>NaN</td>\n",
       "    </tr>\n",
       "    <tr>\n",
       "      <th>270200</th>\n",
       "      <td>135173</td>\n",
       "      <td>Henri Achille Zo</td>\n",
       "      <td>M</td>\n",
       "      <td>58.0</td>\n",
       "      <td>NaN</td>\n",
       "      <td>NaN</td>\n",
       "      <td>France</td>\n",
       "      <td>FRA</td>\n",
       "      <td>1932 Summer</td>\n",
       "      <td>1932</td>\n",
       "      <td>Summer</td>\n",
       "      <td>Los Angeles</td>\n",
       "      <td>Art Competitions</td>\n",
       "      <td>Art Competitions Mixed Painting, Unknown Event</td>\n",
       "      <td>NaN</td>\n",
       "    </tr>\n",
       "  </tbody>\n",
       "</table>\n",
       "<p>1385 rows × 15 columns</p>\n",
       "</div>"
      ],
      "text/plain": [
       "        id_atleta                          nome_atleta sexo_atleta  idade  \\\n",
       "1252          704                   Dsir Antoine Acket           M   27.0   \n",
       "4282         2449               William Truman Aldrich           M   48.0   \n",
       "4283         2449               William Truman Aldrich           M   48.0   \n",
       "4862         2777               Hermann Reinhard Alker           M   43.0   \n",
       "4864         2777               Hermann Reinhard Alker           M   43.0   \n",
       "...           ...                                  ...         ...    ...   \n",
       "269994     135072  Anna Katrina Zinkeisen (-Heseltine)           F   46.0   \n",
       "269995     135072  Anna Katrina Zinkeisen (-Heseltine)           F   46.0   \n",
       "269997     135072  Anna Katrina Zinkeisen (-Heseltine)           F   46.0   \n",
       "269999     135073   Doris Clare Zinkeisen (-Johnstone)           F   49.0   \n",
       "270200     135173                     Henri Achille Zo           M   58.0   \n",
       "\n",
       "        altura_atleta  peso_atleta         equipe  noc ano_temporada   ano  \\\n",
       "1252              NaN          NaN        Belgium  BEL   1932 Summer  1932   \n",
       "4282              NaN          NaN  United States  USA   1928 Summer  1928   \n",
       "4283              NaN          NaN  United States  USA   1928 Summer  1928   \n",
       "4862              NaN          NaN        Germany  GER   1928 Summer  1928   \n",
       "4864              NaN          NaN        Germany  GER   1928 Summer  1928   \n",
       "...               ...          ...            ...  ...           ...   ...   \n",
       "269994            NaN          NaN  Great Britain  GBR   1948 Summer  1948   \n",
       "269995            NaN          NaN  Great Britain  GBR   1948 Summer  1948   \n",
       "269997            NaN          NaN  Great Britain  GBR   1948 Summer  1948   \n",
       "269999            NaN          NaN  Great Britain  GBR   1948 Summer  1948   \n",
       "270200            NaN          NaN         France  FRA   1932 Summer  1932   \n",
       "\n",
       "       temporada  cidade_sede modalidade_esportiva  \\\n",
       "1252      Summer  Los Angeles     Art Competitions   \n",
       "4282      Summer    Amsterdam     Art Competitions   \n",
       "4283      Summer    Amsterdam     Art Competitions   \n",
       "4862      Summer    Amsterdam     Art Competitions   \n",
       "4864      Summer    Amsterdam     Art Competitions   \n",
       "...          ...          ...                  ...   \n",
       "269994    Summer       London     Art Competitions   \n",
       "269995    Summer       London     Art Competitions   \n",
       "269997    Summer       London     Art Competitions   \n",
       "269999    Summer       London     Art Competitions   \n",
       "270200    Summer  Los Angeles     Art Competitions   \n",
       "\n",
       "                                                   evento medalha  \n",
       "1252       Art Competitions Mixed Painting, Unknown Event     NaN  \n",
       "4282    Art Competitions Mixed Painting, Drawings And ...     NaN  \n",
       "4283    Art Competitions Mixed Painting, Drawings And ...     NaN  \n",
       "4862    Art Competitions Mixed Architecture, Designs F...     NaN  \n",
       "4864    Art Competitions Mixed Architecture, Architect...     NaN  \n",
       "...                                                   ...     ...  \n",
       "269994         Art Competitions Mixed Painting, Paintings     NaN  \n",
       "269995         Art Competitions Mixed Painting, Paintings     NaN  \n",
       "269997     Art Competitions Mixed Painting, Unknown Event     NaN  \n",
       "269999     Art Competitions Mixed Painting, Unknown Event     NaN  \n",
       "270200     Art Competitions Mixed Painting, Unknown Event     NaN  \n",
       "\n",
       "[1385 rows x 15 columns]"
      ]
     },
     "execution_count": 13,
     "metadata": {},
     "output_type": "execute_result"
    }
   ],
   "source": [
    "df_atleta[df_atleta.duplicated()]"
   ]
  },
  {
   "cell_type": "markdown",
   "id": "9805501d",
   "metadata": {},
   "source": [
    "## 3. Realize uma análise de correlação dos atributos utilizando a matriz de correlações e gráficos de dispersão (você pode usar a função corr do pandas para obter a matriz). O que esses valores dizem sobre os dados? Você consegue encontrar evidências visuais das correlações através dos gráficos? Discorra sobre sua resposta.\n"
   ]
  },
  {
   "cell_type": "code",
   "execution_count": 14,
   "id": "c144547e",
   "metadata": {},
   "outputs": [
    {
     "data": {
      "text/html": [
       "<div>\n",
       "<style scoped>\n",
       "    .dataframe tbody tr th:only-of-type {\n",
       "        vertical-align: middle;\n",
       "    }\n",
       "\n",
       "    .dataframe tbody tr th {\n",
       "        vertical-align: top;\n",
       "    }\n",
       "\n",
       "    .dataframe thead th {\n",
       "        text-align: right;\n",
       "    }\n",
       "</style>\n",
       "<table border=\"1\" class=\"dataframe\">\n",
       "  <thead>\n",
       "    <tr style=\"text-align: right;\">\n",
       "      <th></th>\n",
       "      <th>id_atleta</th>\n",
       "      <th>idade</th>\n",
       "      <th>altura_atleta</th>\n",
       "      <th>peso_atleta</th>\n",
       "      <th>ano</th>\n",
       "    </tr>\n",
       "  </thead>\n",
       "  <tbody>\n",
       "    <tr>\n",
       "      <th>id_atleta</th>\n",
       "      <td>1.000000</td>\n",
       "      <td>-0.003815</td>\n",
       "      <td>-0.008731</td>\n",
       "      <td>-0.009440</td>\n",
       "      <td>0.007436</td>\n",
       "    </tr>\n",
       "    <tr>\n",
       "      <th>idade</th>\n",
       "      <td>-0.003815</td>\n",
       "      <td>1.000000</td>\n",
       "      <td>0.135298</td>\n",
       "      <td>0.210994</td>\n",
       "      <td>-0.131016</td>\n",
       "    </tr>\n",
       "    <tr>\n",
       "      <th>altura_atleta</th>\n",
       "      <td>-0.008731</td>\n",
       "      <td>0.135298</td>\n",
       "      <td>1.000000</td>\n",
       "      <td>0.794767</td>\n",
       "      <td>0.049840</td>\n",
       "    </tr>\n",
       "    <tr>\n",
       "      <th>peso_atleta</th>\n",
       "      <td>-0.009440</td>\n",
       "      <td>0.210994</td>\n",
       "      <td>0.794767</td>\n",
       "      <td>1.000000</td>\n",
       "      <td>0.018593</td>\n",
       "    </tr>\n",
       "    <tr>\n",
       "      <th>ano</th>\n",
       "      <td>0.007436</td>\n",
       "      <td>-0.131016</td>\n",
       "      <td>0.049840</td>\n",
       "      <td>0.018593</td>\n",
       "      <td>1.000000</td>\n",
       "    </tr>\n",
       "  </tbody>\n",
       "</table>\n",
       "</div>"
      ],
      "text/plain": [
       "               id_atleta     idade  altura_atleta  peso_atleta       ano\n",
       "id_atleta       1.000000 -0.003815      -0.008731    -0.009440  0.007436\n",
       "idade          -0.003815  1.000000       0.135298     0.210994 -0.131016\n",
       "altura_atleta  -0.008731  0.135298       1.000000     0.794767  0.049840\n",
       "peso_atleta    -0.009440  0.210994       0.794767     1.000000  0.018593\n",
       "ano             0.007436 -0.131016       0.049840     0.018593  1.000000"
      ]
     },
     "execution_count": 14,
     "metadata": {},
     "output_type": "execute_result"
    }
   ],
   "source": [
    "df_atleta.corr()"
   ]
  },
  {
   "cell_type": "code",
   "execution_count": 59,
   "id": "838249fa",
   "metadata": {},
   "outputs": [
    {
     "data": {
      "image/png": "[encoded data removed]",
      "text/plain": [
       "<Figure size 432x288 with 1 Axes>"
      ]
     },
     "metadata": {
      "needs_background": "light"
     },
     "output_type": "display_data"
    }
   ],
   "source": [
    "plt.scatter(x = df_atleta['altura_atleta'].values, y = df_atleta['peso_atleta'].values)\n",
    "plt.title('Gráfico de Dispersão entre altura_atleta e peso_atleta')\n",
    "plt.show()"
   ]
  },
  {
   "cell_type": "markdown",
   "id": "17efecc1",
   "metadata": {},
   "source": [
    "## 4. Os dados possuem valores discrepantes (outliers)? Demonstre a existência ou não de outliers utilizando gráficos (dispersão, boxplot, etc);"
   ]
  },
  {
   "cell_type": "code",
   "execution_count": 49,
   "id": "3b09f548",
   "metadata": {},
   "outputs": [
    {
     "data": {
      "text/plain": [
       "<AxesSubplot:>"
      ]
     },
     "execution_count": 49,
     "metadata": {},
     "output_type": "execute_result"
    },
    {
     "data": {
      "image/png": "[encoded data removed]",
      "text/plain": [
       "<Figure size 864x432 with 1 Axes>"
      ]
     },
     "metadata": {
      "needs_background": "light"
     },
     "output_type": "display_data"
    }
   ],
   "source": [
    "plt.figure(figsize=(12,6))\n",
    "df_atleta.boxplot([\"peso_atleta\"])"
   ]
  },
  {
   "cell_type": "markdown",
   "id": "127bbd75",
   "metadata": {},
   "source": [
    "## 5. Elabore pelo menos 3 questionamentos sobre os dados, fazendo uso de gráficos e manipulações do dataset para obter suas respostas. (exemplos: qual país obteve mais medalhas de ouro?, existiam mais atletas homens ou mulheres?). Discorra sobre seus achados."
   ]
  },
  {
   "cell_type": "markdown",
   "id": "321b2615",
   "metadata": {},
   "source": [
    "Qual atleta ganhou mais medalhas ?"
   ]
  },
  {
   "cell_type": "code",
   "execution_count": 18,
   "id": "9c7e3af3",
   "metadata": {},
   "outputs": [],
   "source": [
    "medal = df_atleta.groupby(by='nome_atleta').count()['medalha'].sort_values(ascending=False).head()"
   ]
  },
  {
   "cell_type": "code",
   "execution_count": 19,
   "id": "e6c027b7",
   "metadata": {
    "scrolled": true
   },
   "outputs": [
    {
     "data": {
      "text/plain": [
       "nome_atleta\n",
       "Michael Fred Phelps, II               28\n",
       "Larysa Semenivna Latynina (Diriy-)    18\n",
       "Nikolay Yefimovich Andrianov          15\n",
       "Edoardo Mangiarotti                   13\n",
       "Borys Anfiyanovych Shakhlin           13\n",
       "Name: medalha, dtype: int64"
      ]
     },
     "execution_count": 19,
     "metadata": {},
     "output_type": "execute_result"
    }
   ],
   "source": [
    "medal"
   ]
  },
  {
   "cell_type": "code",
   "execution_count": 52,
   "id": "61c05f47",
   "metadata": {},
   "outputs": [
    {
     "data": {
      "text/plain": [
       "<AxesSubplot:xlabel='nome_atleta'>"
      ]
     },
     "execution_count": 52,
     "metadata": {},
     "output_type": "execute_result"
    },
    {
     "data": {
      "image/png": "[encoded data removed]",
      "text/plain": [
       "<Figure size 432x288 with 1 Axes>"
      ]
     },
     "metadata": {
      "needs_background": "light"
     },
     "output_type": "display_data"
    }
   ],
   "source": [
    "medal.plot(x='nome_atleta', y='medalha')\n"
   ]
  },
  {
   "cell_type": "markdown",
   "id": "14100171",
   "metadata": {},
   "source": [
    "## Quem é o atleta mais velho?"
   ]
  },
  {
   "cell_type": "code",
   "execution_count": 58,
   "id": "efc58125",
   "metadata": {},
   "outputs": [
    {
     "data": {
      "text/html": [
       "<div>\n",
       "<style scoped>\n",
       "    .dataframe tbody tr th:only-of-type {\n",
       "        vertical-align: middle;\n",
       "    }\n",
       "\n",
       "    .dataframe tbody tr th {\n",
       "        vertical-align: top;\n",
       "    }\n",
       "\n",
       "    .dataframe thead th {\n",
       "        text-align: right;\n",
       "    }\n",
       "</style>\n",
       "<table border=\"1\" class=\"dataframe\">\n",
       "  <thead>\n",
       "    <tr style=\"text-align: right;\">\n",
       "      <th></th>\n",
       "      <th>id_atleta</th>\n",
       "      <th>nome_atleta</th>\n",
       "      <th>sexo_atleta</th>\n",
       "      <th>idade</th>\n",
       "      <th>altura_atleta</th>\n",
       "      <th>peso_atleta</th>\n",
       "      <th>equipe</th>\n",
       "      <th>noc</th>\n",
       "      <th>ano_temporada</th>\n",
       "      <th>ano</th>\n",
       "      <th>temporada</th>\n",
       "      <th>cidade_sede</th>\n",
       "      <th>modalidade_esportiva</th>\n",
       "      <th>evento</th>\n",
       "      <th>medalha</th>\n",
       "      <th>ouro</th>\n",
       "    </tr>\n",
       "  </thead>\n",
       "  <tbody>\n",
       "    <tr>\n",
       "      <th>257054</th>\n",
       "      <td>128719</td>\n",
       "      <td>John Quincy Adams Ward</td>\n",
       "      <td>M</td>\n",
       "      <td>97.0</td>\n",
       "      <td>NaN</td>\n",
       "      <td>NaN</td>\n",
       "      <td>United States</td>\n",
       "      <td>USA</td>\n",
       "      <td>1928 Summer</td>\n",
       "      <td>1928</td>\n",
       "      <td>Summer</td>\n",
       "      <td>Amsterdam</td>\n",
       "      <td>Art Competitions</td>\n",
       "      <td>Art Competitions Mixed Sculpturing, Statues</td>\n",
       "      <td>NaN</td>\n",
       "      <td>False</td>\n",
       "    </tr>\n",
       "  </tbody>\n",
       "</table>\n",
       "</div>"
      ],
      "text/plain": [
       "        id_atleta             nome_atleta sexo_atleta  idade  altura_atleta  \\\n",
       "257054     128719  John Quincy Adams Ward           M   97.0            NaN   \n",
       "\n",
       "        peso_atleta         equipe  noc ano_temporada   ano temporada  \\\n",
       "257054          NaN  United States  USA   1928 Summer  1928    Summer   \n",
       "\n",
       "       cidade_sede modalidade_esportiva  \\\n",
       "257054   Amsterdam     Art Competitions   \n",
       "\n",
       "                                             evento medalha   ouro  \n",
       "257054  Art Competitions Mixed Sculpturing, Statues     NaN  False  "
      ]
     },
     "execution_count": 58,
     "metadata": {},
     "output_type": "execute_result"
    }
   ],
   "source": [
    "df_atleta[df_atleta[\"idade\"] == 97.0]"
   ]
  },
  {
   "cell_type": "code",
   "execution_count": 22,
   "id": "d5a7fda3",
   "metadata": {},
   "outputs": [
    {
     "data": {
      "text/plain": [
       "<AxesSubplot:>"
      ]
     },
     "execution_count": 22,
     "metadata": {},
     "output_type": "execute_result"
    },
    {
     "data": {
      "image/png": "[encoded data removed]",
      "text/plain": [
       "<Figure size 864x432 with 1 Axes>"
      ]
     },
     "metadata": {
      "needs_background": "light"
     },
     "output_type": "display_data"
    }
   ],
   "source": [
    "plt.figure(figsize=(12,6))\n",
    "df_atleta.boxplot([\"idade\"])"
   ]
  },
  {
   "cell_type": "markdown",
   "id": "9b416009",
   "metadata": {},
   "source": [
    "## Quantos ateltas tem de cada sexo?"
   ]
  },
  {
   "cell_type": "code",
   "execution_count": 37,
   "id": "6d59ba63",
   "metadata": {},
   "outputs": [
    {
     "data": {
      "text/plain": [
       "M    163109\n",
       "F     59443\n",
       "Name: sexo_atleta, dtype: int64"
      ]
     },
     "execution_count": 37,
     "metadata": {},
     "output_type": "execute_result"
    }
   ],
   "source": [
    "df_atleta[\"sexo_atleta\"].value_counts()"
   ]
  },
  {
   "cell_type": "code",
   "execution_count": 36,
   "id": "0ab7e546",
   "metadata": {},
   "outputs": [
    {
     "data": {
      "image/png": "[encoded data removed]",
      "text/plain": [
       "<Figure size 864x720 with 1 Axes>"
      ]
     },
     "metadata": {
      "needs_background": "light"
     },
     "output_type": "display_data"
    }
   ],
   "source": [
    "plt.figure(figsize=(12,10))\n",
    "sns.countplot(x= \"sexo_atleta\", data=df_atleta)\n",
    "plt.show()"
   ]
  },
  {
   "cell_type": "markdown",
   "id": "ef8e416b",
   "metadata": {},
   "source": [
    "# Análise de dados"
   ]
  },
  {
   "cell_type": "code",
   "execution_count": 61,
   "id": "b3a2f091",
   "metadata": {},
   "outputs": [
    {
     "data": {
      "text/plain": [
       "Index(['ID', 'Name', 'Sex', 'Age', 'Height', 'Weight', 'Team', 'NOC', 'Games',\n",
       "       'Year', 'Season', 'City', 'Sport', 'Event', 'Medal'],\n",
       "      dtype='object')"
      ]
     },
     "execution_count": 61,
     "metadata": {},
     "output_type": "execute_result"
    }
   ],
   "source": [
    "df_atleta.columns"
   ]
  },
  {
   "cell_type": "code",
   "execution_count": 58,
   "id": "7dabfc92",
   "metadata": {},
   "outputs": [
    {
     "name": "stdout",
     "output_type": "stream",
     "text": [
      "<class 'pandas.core.frame.DataFrame'>\n",
      "RangeIndex: 271116 entries, 0 to 271115\n",
      "Data columns (total 15 columns):\n",
      " #   Column  Non-Null Count   Dtype  \n",
      "---  ------  --------------   -----  \n",
      " 0   ID      271116 non-null  int64  \n",
      " 1   Name    271116 non-null  object \n",
      " 2   Sex     271116 non-null  object \n",
      " 3   Age     261642 non-null  float64\n",
      " 4   Height  210945 non-null  float64\n",
      " 5   Weight  208241 non-null  float64\n",
      " 6   Team    271116 non-null  object \n",
      " 7   NOC     271116 non-null  object \n",
      " 8   Games   271116 non-null  object \n",
      " 9   Year    271116 non-null  int64  \n",
      " 10  Season  271116 non-null  object \n",
      " 11  City    271116 non-null  object \n",
      " 12  Sport   271116 non-null  object \n",
      " 13  Event   271116 non-null  object \n",
      " 14  Medal   39783 non-null   object \n",
      "dtypes: float64(3), int64(2), object(10)\n",
      "memory usage: 31.0+ MB\n"
     ]
    }
   ],
   "source": [
    "df_atleta.info()"
   ]
  },
  {
   "cell_type": "code",
   "execution_count": null,
   "id": "cbf808df",
   "metadata": {},
   "outputs": [],
   "source": [
    "\n"
   ]
  },
  {
   "cell_type": "code",
   "execution_count": null,
   "id": "d198492f",
   "metadata": {},
   "outputs": [],
   "source": [
    "df_atleta.iloc[0]"
   ]
  }
 ],
 "metadata": {
  "kernelspec": {
   "display_name": "Python 3",
   "language": "python",
   "name": "python3"
  },
  "language_info": {
   "codemirror_mode": {
    "name": "ipython",
    "version": 3
   },
   "file_extension": ".py",
   "mimetype": "text/x-python",
   "name": "python",
   "nbconvert_exporter": "python",
   "pygments_lexer": "ipython3",
   "version": "3.8.8"
  }
 },
 "nbformat": 4,
 "nbformat_minor": 5
}
