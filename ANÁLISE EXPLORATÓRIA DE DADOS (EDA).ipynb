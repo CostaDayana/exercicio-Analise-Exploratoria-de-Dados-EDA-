{
 "cells": [
  {
   "cell_type": "markdown",
   "id": "d80f78ce",
   "metadata": {},
   "source": [
    "# EXERCÍCIO: ANÁLISE EXPLORATÓRIA DE DADOS (EDA)"
   ]
  },
  {
   "cell_type": "markdown",
   "id": "163656f8",
   "metadata": {},
   "source": [
    "Para este exercício, utilize o dataset sobre dados históricos das olimpíadas. Carregue\n",
    "os dados e faça o que se pede:"
   ]
  },
  {
   "cell_type": "code",
   "execution_count": null,
   "id": "15880d9f",
   "metadata": {},
   "outputs": [],
   "source": [
    "import pandas as pd\n",
    "import matplotlib.pyplot as plt\n",
    "import seaborn as sns\n"
   ]
  },
  {
   "cell_type": "code",
   "execution_count": null,
   "id": "4d35e3ee",
   "metadata": {},
   "outputs": [],
   "source": [
    "file = 'atletas-eventos.csv'"
   ]
  },
  {
   "cell_type": "code",
   "execution_count": null,
   "id": "1bd338b3",
   "metadata": {},
   "outputs": [],
   "source": [
    "columns = ('Name','Sex','Age','Team','Games','Year','Season','City','Event','Medal')"
   ]
  },
  {
   "cell_type": "code",
   "execution_count": null,
   "id": "ae928592",
   "metadata": {},
   "outputs": [],
   "source": [
    "df = pd.read_csv(file, names=columns,low_memory=False)"
   ]
  },
  {
   "cell_type": "code",
   "execution_count": null,
   "id": "6ab44bcf",
   "metadata": {},
   "outputs": [],
   "source": [
    "df"
   ]
  },
  {
   "cell_type": "code",
   "execution_count": null,
   "id": "431e6364",
   "metadata": {},
   "outputs": [],
   "source": [
    "dados=pd.read_csv(\"atletas-eventos.csv\")"
   ]
  },
  {
   "cell_type": "markdown",
   "id": "f1e0181d",
   "metadata": {},
   "source": [
    "**1. Obtenha as estatísticas básicas do dataset (média, desvio padrão, máximos e\n",
    "mínimos, distribuição, etc). O que elas dizem sobre os dados?**"
   ]
  },
  {
   "cell_type": "code",
   "execution_count": null,
   "id": "b4611b2d",
   "metadata": {},
   "outputs": [],
   "source": [
    "dados.describe()"
   ]
  },
  {
   "cell_type": "markdown",
   "id": "4a12055a",
   "metadata": {},
   "source": [
    "**2. Existem dados faltantes ou nulos? Se sim, quantos? (utilize funções como o\n",
    "duplicated, isna e/ou isnull do pandas);**"
   ]
  },
  {
   "cell_type": "markdown",
   "id": "f2ee151c",
   "metadata": {},
   "source": [
    "**2. Existem dados faltantes ou nulos? Se sim, quantos? (utilize funções como o\n",
    "duplicated, isna e/ou isnull do pandas);**"
   ]
  },
  {
   "cell_type": "code",
   "execution_count": null,
   "id": "c78971ea",
   "metadata": {},
   "outputs": [],
   "source": [
    "dados.isnull()"
   ]
  },
  {
   "cell_type": "code",
   "execution_count": null,
   "id": "67834f3e",
   "metadata": {},
   "outputs": [],
   "source": [
    "dados.isnull().sum()"
   ]
  },
  {
   "cell_type": "code",
   "execution_count": null,
   "id": "ecfa3981",
   "metadata": {},
   "outputs": [],
   "source": [
    "dados.duplicated()"
   ]
  },
  {
   "cell_type": "markdown",
   "id": "88216429",
   "metadata": {},
   "source": [
    "**3. Realize uma análise de correlação dos atributos utilizando a matriz de\n",
    "correlações e gráficos de dispersão (você pode usar a função corr do pandas\n",
    "para obter a matriz). O que esses valores dizem sobre os dados? Você consegue\n",
    "encontrar evidências visuais das correlações através dos gráficos? Discorra\n",
    "sobre sua resposta.**"
   ]
  },
  {
   "cell_type": "code",
   "execution_count": null,
   "id": "21cbace7",
   "metadata": {},
   "outputs": [],
   "source": [
    "dados.corr()"
   ]
  },
  {
   "cell_type": "code",
   "execution_count": null,
   "id": "afa89a85",
   "metadata": {},
   "outputs": [],
   "source": [
    "corr = dados.corr(method='pearson')"
   ]
  },
  {
   "cell_type": "code",
   "execution_count": null,
   "id": "acf232af",
   "metadata": {},
   "outputs": [],
   "source": [
    "plt.figure(figsize=(8, 6))\n",
    "sns.heatmap(corr, annot=True)\n",
    "plt.show()"
   ]
  },
  {
   "cell_type": "markdown",
   "id": "a9310f34",
   "metadata": {},
   "source": [
    "**4. Os dados possuem valores discrepantes (outliers)? Demonstre a existência ou\n",
    "não de outliers utilizando gráficos (dispersão, boxplot, etc).**"
   ]
  },
  {
   "cell_type": "markdown",
   "id": "3cdb3d40",
   "metadata": {},
   "source": [
    "**5. Elabore pelo menos 3 questionamentos sobre os dados, fazendo uso de\n",
    "gráficos e manipulações do dataset para obter suas respostas. (exemplos: qual\n",
    "país obteve mais medalhas de ouro?, existiam mais atletas homens ou\n",
    "mulheres?). Discorra sobre seus achados**"
   ]
  },
  {
   "cell_type": "markdown",
   "id": "cacf6133",
   "metadata": {},
   "source": [
    "Quais atletas receberam mais medalhas?"
   ]
  },
  {
   "cell_type": "code",
   "execution_count": null,
   "id": "96e8fe67",
   "metadata": {},
   "outputs": [],
   "source": [
    "dados.groupby(by='Name').count()['Medal'].sort_values(ascending=False).head()"
   ]
  },
  {
   "cell_type": "code",
   "execution_count": null,
   "id": "dad23fac",
   "metadata": {},
   "outputs": [],
   "source": [
    "Quais atletas receberam mais medalhas"
   ]
  },
  {
   "cell_type": "code",
   "execution_count": null,
   "id": "9ed881c3",
   "metadata": {},
   "outputs": [],
   "source": []
  },
  {
   "cell_type": "code",
   "execution_count": null,
   "id": "78bfae71",
   "metadata": {},
   "outputs": [],
   "source": []
  },
  {
   "cell_type": "code",
   "execution_count": null,
   "id": "25eafe79",
   "metadata": {},
   "outputs": [],
   "source": []
  },
  {
   "cell_type": "code",
   "execution_count": null,
   "id": "4a9821d5",
   "metadata": {},
   "outputs": [],
   "source": []
  },
  {
   "cell_type": "markdown",
   "id": "0ad96021",
   "metadata": {},
   "source": [
    "# Analise de dados"
   ]
  },
  {
   "cell_type": "code",
   "execution_count": null,
   "id": "d489968b",
   "metadata": {},
   "outputs": [],
   "source": [
    "dados.columns"
   ]
  },
  {
   "cell_type": "code",
   "execution_count": null,
   "id": "73a585bd",
   "metadata": {},
   "outputs": [],
   "source": [
    "dados.columns\n"
   ]
  },
  {
   "cell_type": "code",
   "execution_count": null,
   "id": "cebb5bd6",
   "metadata": {},
   "outputs": [],
   "source": [
    "dados.dtypes"
   ]
  },
  {
   "cell_type": "code",
   "execution_count": null,
   "id": "52c7cb26",
   "metadata": {},
   "outputs": [],
   "source": [
    "dados.head()"
   ]
  },
  {
   "cell_type": "code",
   "execution_count": null,
   "id": "b7a07b4d",
   "metadata": {},
   "outputs": [],
   "source": [
    "dados[['Team','Medal']]"
   ]
  },
  {
   "cell_type": "code",
   "execution_count": null,
   "id": "87741a74",
   "metadata": {},
   "outputs": [],
   "source": [
    "dados[dados['Medal'] == 'Gold']."
   ]
  },
  {
   "cell_type": "code",
   "execution_count": null,
   "id": "86143967",
   "metadata": {},
   "outputs": [],
   "source": [
    "dados.describe(include='object')"
   ]
  },
  {
   "cell_type": "code",
   "execution_count": null,
   "id": "f2a85f71",
   "metadata": {},
   "outputs": [],
   "source": [
    "dados.groupby(by='Name').count()['Medal'].sort_values(ascending=False).head()"
   ]
  },
  {
   "cell_type": "code",
   "execution_count": null,
   "id": "f2375e13",
   "metadata": {},
   "outputs": [],
   "source": []
  },
  {
   "cell_type": "code",
   "execution_count": null,
   "id": "59345112",
   "metadata": {},
   "outputs": [],
   "source": []
  }
 ],
 "metadata": {
  "kernelspec": {
   "display_name": "Python 3",
   "language": "python",
   "name": "python3"
  },
  "language_info": {
   "codemirror_mode": {
    "name": "ipython",
    "version": 3
   },
   "file_extension": ".py",
   "mimetype": "text/x-python",
   "name": "python",
   "nbconvert_exporter": "python",
   "pygments_lexer": "ipython3",
   "version": "3.8.8"
  }
 },
 "nbformat": 4,
 "nbformat_minor": 5
}
